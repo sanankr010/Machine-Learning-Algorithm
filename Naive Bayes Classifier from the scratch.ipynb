{
 "cells": [
  {
   "cell_type": "markdown",
   "metadata": {},
   "source": [
    "# Naive Bayes Classifier from the scratch"
   ]
  },
  {
   "cell_type": "markdown",
   "metadata": {},
   "source": [
    "Implemented Naive Bayes Algoritm from the scratch for a small data set having only two feature.No any Library is used for Machine Learnig Algoritm.I have used only python library Panday for Data Preparation and Numpy Library for computational work."
   ]
  },
  {
   "cell_type": "code",
   "execution_count": 2,
   "metadata": {},
   "outputs": [],
   "source": [
    "import pandas as pd\n",
    "import numpy as np"
   ]
  },
  {
   "cell_type": "code",
   "execution_count": 3,
   "metadata": {},
   "outputs": [
    {
     "data": {
      "text/html": [
       "<div>\n",
       "<style scoped>\n",
       "    .dataframe tbody tr th:only-of-type {\n",
       "        vertical-align: middle;\n",
       "    }\n",
       "\n",
       "    .dataframe tbody tr th {\n",
       "        vertical-align: top;\n",
       "    }\n",
       "\n",
       "    .dataframe thead th {\n",
       "        text-align: right;\n",
       "    }\n",
       "</style>\n",
       "<table border=\"1\" class=\"dataframe\">\n",
       "  <thead>\n",
       "    <tr style=\"text-align: right;\">\n",
       "      <th></th>\n",
       "      <th>x</th>\n",
       "      <th>y</th>\n",
       "      <th>label</th>\n",
       "    </tr>\n",
       "  </thead>\n",
       "  <tbody>\n",
       "    <tr>\n",
       "      <th>0</th>\n",
       "      <td>34.623660</td>\n",
       "      <td>78.024693</td>\n",
       "      <td>0</td>\n",
       "    </tr>\n",
       "    <tr>\n",
       "      <th>1</th>\n",
       "      <td>30.286711</td>\n",
       "      <td>43.894998</td>\n",
       "      <td>0</td>\n",
       "    </tr>\n",
       "    <tr>\n",
       "      <th>2</th>\n",
       "      <td>35.847409</td>\n",
       "      <td>72.902198</td>\n",
       "      <td>0</td>\n",
       "    </tr>\n",
       "    <tr>\n",
       "      <th>3</th>\n",
       "      <td>60.182599</td>\n",
       "      <td>86.308552</td>\n",
       "      <td>1</td>\n",
       "    </tr>\n",
       "    <tr>\n",
       "      <th>4</th>\n",
       "      <td>79.032736</td>\n",
       "      <td>75.344376</td>\n",
       "      <td>1</td>\n",
       "    </tr>\n",
       "  </tbody>\n",
       "</table>\n",
       "</div>"
      ],
      "text/plain": [
       "           x          y  label\n",
       "0  34.623660  78.024693      0\n",
       "1  30.286711  43.894998      0\n",
       "2  35.847409  72.902198      0\n",
       "3  60.182599  86.308552      1\n",
       "4  79.032736  75.344376      1"
      ]
     },
     "execution_count": 3,
     "metadata": {},
     "output_type": "execute_result"
    }
   ],
   "source": [
    "df1=pd.read_csv('ex2data1.csv')\n",
    "df=df1.iloc[20:]\n",
    "df2=df1.iloc[:20]\n",
    "df2.head()"
   ]
  },
  {
   "cell_type": "code",
   "execution_count": 4,
   "metadata": {},
   "outputs": [
    {
     "name": "stdout",
     "output_type": "stream",
     "text": [
      "(48, 3)\n",
      "(32, 3)\n",
      "(80, 3)\n"
     ]
    }
   ],
   "source": [
    "data_0=df.loc[df['label'] == 0]\n",
    "data_1=df.loc[df['label'] == 1]\n",
    "print(data_1.shape)\n",
    "print(data_0.shape)\n",
    "print(df.shape)"
   ]
  },
  {
   "cell_type": "code",
   "execution_count": 5,
   "metadata": {},
   "outputs": [
    {
     "data": {
      "text/html": [
       "<div>\n",
       "<style scoped>\n",
       "    .dataframe tbody tr th:only-of-type {\n",
       "        vertical-align: middle;\n",
       "    }\n",
       "\n",
       "    .dataframe tbody tr th {\n",
       "        vertical-align: top;\n",
       "    }\n",
       "\n",
       "    .dataframe thead th {\n",
       "        text-align: right;\n",
       "    }\n",
       "</style>\n",
       "<table border=\"1\" class=\"dataframe\">\n",
       "  <thead>\n",
       "    <tr style=\"text-align: right;\">\n",
       "      <th></th>\n",
       "      <th>x</th>\n",
       "      <th>y</th>\n",
       "    </tr>\n",
       "    <tr>\n",
       "      <th>label</th>\n",
       "      <th></th>\n",
       "      <th></th>\n",
       "    </tr>\n",
       "  </thead>\n",
       "  <tbody>\n",
       "    <tr>\n",
       "      <th>1</th>\n",
       "      <td>75.518831</td>\n",
       "      <td>73.855421</td>\n",
       "    </tr>\n",
       "  </tbody>\n",
       "</table>\n",
       "</div>"
      ],
      "text/plain": [
       "               x          y\n",
       "label                      \n",
       "1      75.518831  73.855421"
      ]
     },
     "execution_count": 5,
     "metadata": {},
     "output_type": "execute_result"
    }
   ],
   "source": [
    "data_mean_0=data_0.groupby('label').mean()\n",
    "data_mean_1=data_1.groupby('label').mean()\n",
    "data_var_0=data_0.groupby('label').var()\n",
    "data_var_1=data_1.groupby('label').var()\n",
    "co_var_0=np.cov(data_0['x'],data_0['y'])\n",
    "siginv_0=np.linalg.inv(co_var_0)\n",
    "co_var_1=np.cov(data_1['x'],data_1['y'])\n",
    "siginv_1=np.linalg.inv(co_var_1)\n",
    "data_mean_1"
   ]
  },
  {
   "cell_type": "code",
   "execution_count": 6,
   "metadata": {},
   "outputs": [
    {
     "name": "stdout",
     "output_type": "stream",
     "text": [
      "51.78408060051157\n"
     ]
    }
   ],
   "source": [
    "x_mean_0=data_mean_0['x'].values[0]\n",
    "y_mean_0=data_mean_0['y'].values[0]\n",
    "x_mean_1=data_mean_1['x'].values[0]\n",
    "y_mean_1=data_mean_1['y'].values[0]\n",
    "print(x_mean_0)"
   ]
  },
  {
   "cell_type": "code",
   "execution_count": 7,
   "metadata": {},
   "outputs": [],
   "source": [
    "def p_a_given_b(a,siginv,mean,co_var,p1):\n",
    "    detm=np.linalg.det(co_var)\n",
    "    mat=a - mean\n",
    "    p=1/(np.sqrt(2*np.pi*detm))*np.exp((-(np.dot(np.dot(mat,siginv),mat.T)))/2)\n",
    "    #print(\"mat=\",mat,\"np=\",np.dot(np.dot(mat,siginv),mat.T),\"exp=\",np.exp((-(np.dot(np.dot(mat,siginv),mat.T)))/2))\n",
    "    #print(\"deno=\",(np.sqrt(2*np.pi*detm)),\"detm=\",detm)\n",
    "    return p1*p"
   ]
  },
  {
   "cell_type": "code",
   "execution_count": 8,
   "metadata": {},
   "outputs": [],
   "source": [
    "def p_c_given_d(a,mean1,co_var1,p1):\n",
    "    for x,mean,co_var in zip(a,mean1,co_var1):\n",
    "        p=1\n",
    "        #print(\"a=\",x,\"mean=\",mean,\"cov=\",co_var)\n",
    "        p*=1/(np.sqrt(2*np.pi*co_var))*np.exp((-(x-mean)**2)/(2*co_var))\n",
    "        #print(\"p=\",p,\"deno=\",(np.sqrt(2*np.pi*co_var)),\"exp=\",np.exp((-(x-mean)**2)/(2*co_var)))\n",
    "        #print(\"pow=\")\n",
    "        return p1*p\n",
    "    "
   ]
  },
  {
   "cell_type": "code",
   "execution_count": 9,
   "metadata": {},
   "outputs": [
    {
     "name": "stdout",
     "output_type": "stream",
     "text": [
      "l0= 0.17470924150986 l1= 0.82529075849014\n",
      "class=1\n"
     ]
    }
   ],
   "source": [
    "l=np.array(df2.loc[:,:'y'].values[18])\n",
    "zero=p_c_given_d(l,np.array(data_mean_0.values[0]),np.array(data_var_0.values[0]),32/80)\n",
    "one=p_c_given_d(l,np.array(data_mean_1.values[0]),np.array(data_mean_1.values[0]),48/80)\n",
    "l0=zero/(zero+one)\n",
    "l1=one/(zero+one)\n",
    "print(\"l0=\",l0,\"l1=\",l1)\n",
    "if l0>0.5 and l0>l1:\n",
    "    print(\"clasa=0\")\n",
    "else:\n",
    "    print(\"class=1\")"
   ]
  },
  {
   "cell_type": "code",
   "execution_count": 10,
   "metadata": {},
   "outputs": [
    {
     "name": "stdout",
     "output_type": "stream",
     "text": [
      "[0, 0, 0, 1, 1, 0, 1, 0, 1, 1, 1, 0, 1, 1, 0, 1, 0, 0, 1, 1]\n"
     ]
    }
   ],
   "source": [
    "list1=[]\n",
    "list2=[]\n",
    "l=np.array(df2.loc[:,:'y'].values[4])\n",
    "for i in range(0,20):\n",
    "    l=np.array(df2.loc[:,:'y'].values[i])\n",
    "    zero=p_a_given_b(l,siginv_0,np.array(data_mean_0.values[0]),co_var_0,32/80)\n",
    "    one=p_a_given_b(l,siginv_1,np.array(data_mean_1.values[0]),co_var_1,48/80)\n",
    "    l0=zero/(zero+one)\n",
    "    l1=one/(zero+one)\n",
    "    #print(\"l0=\",l0,\"l1=\",l1)\n",
    "    if l0>0.5 and l0>l1:\n",
    "        #print(\"clasa=0\")\n",
    "        list1.append(0)\n",
    "    else:\n",
    "        list1.append(1)\n",
    "        #print(\"class=1\")\n",
    "print(list1)"
   ]
  },
  {
   "cell_type": "code",
   "execution_count": 11,
   "metadata": {},
   "outputs": [
    {
     "name": "stdout",
     "output_type": "stream",
     "text": [
      "[0, 0, 0, 1, 1, 0, 1, 1, 1, 1, 0, 0, 1, 1, 0, 1, 1, 0, 1, 1]\n"
     ]
    }
   ],
   "source": [
    "for i in (df2.loc[:,'label':]).values:\n",
    "    list2.append(i[0])\n",
    "print(list2)"
   ]
  },
  {
   "cell_type": "code",
   "execution_count": 12,
   "metadata": {},
   "outputs": [
    {
     "name": "stdout",
     "output_type": "stream",
     "text": [
      "acurracy= 85.0\n"
     ]
    }
   ],
   "source": [
    "count=0\n",
    "miscount=0\n",
    "for i,j in zip(list1,list2):\n",
    "    if i==j:\n",
    "        count+=1\n",
    "print(\"acurracy=\",(count/len(list1))*100)"
   ]
  },
  {
   "cell_type": "markdown",
   "metadata": {},
   "source": [
    "Got acurracy =85% due to small dataset and having small no. of features (i.e only two).This dataset contain 100 example that are splited into 5:1 ratio of training and testing part."
   ]
  }
 ],
 "metadata": {
  "kernelspec": {
   "display_name": "Python 3",
   "language": "python",
   "name": "python3"
  },
  "language_info": {
   "codemirror_mode": {
    "name": "ipython",
    "version": 3
   },
   "file_extension": ".py",
   "mimetype": "text/x-python",
   "name": "python",
   "nbconvert_exporter": "python",
   "pygments_lexer": "ipython3",
   "version": "3.6.5"
  }
 },
 "nbformat": 4,
 "nbformat_minor": 2
}
